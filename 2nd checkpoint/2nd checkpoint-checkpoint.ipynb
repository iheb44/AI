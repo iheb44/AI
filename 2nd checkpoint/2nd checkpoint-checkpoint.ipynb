{
 "cells": [
  {
   "cell_type": "code",
   "execution_count": 6,
   "metadata": {},
   "outputs": [
    {
     "name": "stdout",
     "output_type": "stream",
     "text": [
      "[2030, 2065, 2100, 2135, 2170, 2205, 2240, 2275, 2310, 2345, 2380, 2415, 2450, 2485, 2520, 2555, 2590, 2625, 2660, 2695, 2730, 2765, 2800, 2835, 2870, 2905, 2940, 2975, 3010, 3045, 3080, 3115, 3150, 3185]\n"
     ]
    }
   ],
   "source": [
    "tab=[]\n",
    "for i in range(2000, 3201):\n",
    "    if (i%7==0) and (i%5==0):\n",
    "        tab.append(i)\n",
    "print(tab)"
   ]
  },
  {
   "cell_type": "code",
   "execution_count": 5,
   "metadata": {},
   "outputs": [
    {
     "name": "stdin",
     "output_type": "stream",
     "text": [
      "please enter a number: \n",
      " -1\n"
     ]
    },
    {
     "name": "stdout",
     "output_type": "stream",
     "text": [
      "the factorial of negative numbers does not exist\n"
     ]
    }
   ],
   "source": [
    "num = int(input(\"please enter a number: \\n\"))\n",
    "if num < 0:\n",
    "   print(\"the factorial of negative numbers does not exist\")\n",
    "elif num == 0:\n",
    "    print(\"factorial (0) = 1\")\n",
    "else:\n",
    "    f=1\n",
    "    for i in range (1,num+1):\n",
    "        f=f*i\n",
    "    print(\"factorial (\",num,\") = \",f)"
   ]
  },
  {
   "cell_type": "code",
   "execution_count": 7,
   "metadata": {},
   "outputs": [
    {
     "name": "stdin",
     "output_type": "stream",
     "text": [
      "please enter a number: \n",
      " 8\n"
     ]
    },
    {
     "name": "stdout",
     "output_type": "stream",
     "text": [
      "{1: 1, 2: 4, 3: 9, 4: 16, 5: 25, 6: 36, 7: 49, 8: 64}\n"
     ]
    }
   ],
   "source": [
    "num = int(input(\"please enter a number: \\n\"))\n",
    "dict = {}\n",
    "for i in range(1,num+1):\n",
    "    dict[i] = i*i\n",
    "print(dict)"
   ]
  },
  {
   "cell_type": "code",
   "execution_count": 2,
   "metadata": {},
   "outputs": [
    {
     "name": "stdout",
     "output_type": "stream",
     "text": [
      "please enter a string: \n",
      "\n",
      "please enter a number: \n",
      "4\n",
      "please enter a string: \n",
      "kitten\n",
      "please enter a number: \n",
      "20\n",
      "please enter a string: \n",
      "kitten\n",
      "please enter a number: \n",
      "1\n",
      "missing_char(' kitten ',  1 ) → ' ktten '\n"
     ]
    }
   ],
   "source": [
    "while True :\n",
    "    str=input(\"please enter a string: \\n\")\n",
    "    num = int(input(\"please enter a number: \\n\"))\n",
    "    if (len(str)>0) and (num<len(str)):\n",
    "        break\n",
    "firstpart = str[:num]\n",
    "lastpart = str[num+1:]\n",
    "print(\"missing_char('\",str,\"', \",num,\") → '\",firstpart+lastpart,\"'\")\n",
    "\n",
    "    "
   ]
  },
  {
   "cell_type": "code",
   "execution_count": 15,
   "metadata": {},
   "outputs": [
    {
     "name": "stdout",
     "output_type": "stream",
     "text": [
      "Original array elements: \n",
      " [[0 1]\n",
      " [2 3]\n",
      " [4 5]]\n",
      "Array to list: [[0, 1], [2, 3], [4, 5]]\n"
     ]
    }
   ],
   "source": [
    "import numpy as np\n",
    "nparray = np.array([[0,1], [2,3], [4,5]])\n",
    "pylist = nparray.tolist()\n",
    "print(\"Original array elements: \\n\",nparray)\n",
    "print(\"Array to list:\",pylist)"
   ]
  },
  {
   "cell_type": "code",
   "execution_count": 14,
   "metadata": {},
   "outputs": [
    {
     "name": "stdout",
     "output_type": "stream",
     "text": [
      "[[ 1. -1.]\n",
      " [-1.  1.]]\n"
     ]
    }
   ],
   "source": [
    "import numpy as np\n",
    "array1 = np.array([0,1,2])\n",
    "array2 = np.array([2,1,0])\n",
    "array3 = np.cov(array1,array2)\n",
    "print(array3)"
   ]
  },
  {
   "cell_type": "code",
   "execution_count": 4,
   "metadata": {},
   "outputs": [
    {
     "name": "stdout",
     "output_type": "stream",
     "text": [
      "enter any values 100,150,180\n",
      "[(2 * 50 * 100)/ 100 ] = 18\n",
      "[(2 * 50 * 100)/ 150 ] = 22\n",
      "[(2 * 50 * 100)/ 180 ] = 24\n"
     ]
    }
   ],
   "source": [
    "import numpy as np\n",
    "c = 50\n",
    "h = 30\n",
    "arr=input(\"enter any values \").split(',')\n",
    "for i in arr:\n",
    "  res=round(np.sqrt((2*c*float(i))/h))\n",
    "  print(\"[(2 * 50 * 100)/ %s ] = %d\" %(i,res) )"
   ]
  },
  {
   "cell_type": "code",
   "execution_count": null,
   "metadata": {},
   "outputs": [],
   "source": []
  }
 ],
 "metadata": {
  "kernelspec": {
   "display_name": "Python 3",
   "language": "python",
   "name": "python3"
  },
  "language_info": {
   "codemirror_mode": {
    "name": "ipython",
    "version": 3
   },
   "file_extension": ".py",
   "mimetype": "text/x-python",
   "name": "python",
   "nbconvert_exporter": "python",
   "pygments_lexer": "ipython3",
   "version": "3.8.3"
  }
 },
 "nbformat": 4,
 "nbformat_minor": 4
}
